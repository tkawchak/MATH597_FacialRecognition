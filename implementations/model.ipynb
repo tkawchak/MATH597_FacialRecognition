{
 "cells": [
  {
   "cell_type": "code",
   "execution_count": 13,
   "metadata": {
    "collapsed": true
   },
   "outputs": [],
   "source": [
    "from __future__ import print_function\n",
    "import argparse\n",
    "import torch\n",
    "import torch.nn as nn\n",
    "import torch.nn.functional as F\n",
    "import torch.optim as optim\n",
    "from torchvision import datasets, transforms\n",
    "from torch.autograd import Variable\n",
    "from torch.utils.data import DataLoader,Dataset"
   ]
  },
  {
   "cell_type": "code",
   "execution_count": 14,
   "metadata": {},
   "outputs": [],
   "source": [
    "import torchvision.models as models"
   ]
  },
  {
   "cell_type": "code",
   "execution_count": 15,
   "metadata": {
    "collapsed": true
   },
   "outputs": [],
   "source": [
    "import numpy as np\n",
    "from skimage import io, transform"
   ]
  },
  {
   "cell_type": "code",
   "execution_count": 16,
   "metadata": {
    "collapsed": true
   },
   "outputs": [],
   "source": [
    "# define some constants to use\n",
    "BATCH_SIZE = 32\n",
    "TEST_BATCH_SIZE = 256\n",
    "LOG_INTERVAL = 100\n",
    "LEARNING_RATE = 0.0001\n",
    "#MOMENTUM = 0.9\n",
    "EPOCHS = 1\n",
    "DATASET = \"Sample_Megaface_Images\""
   ]
  },
  {
   "cell_type": "code",
   "execution_count": 17,
   "metadata": {
    "collapsed": true
   },
   "outputs": [],
   "source": [
    "# arguments for training the model\n",
    "#kwargs = {'num_workers': 1, 'pin_memory': True} if args.cuda else {}\n",
    "kwargs = {}"
   ]
  },
  {
   "cell_type": "markdown",
   "metadata": {},
   "source": [
    "## Model layer sizes"
   ]
  },
  {
   "cell_type": "code",
   "execution_count": 18,
   "metadata": {},
   "outputs": [
    {
     "name": "stdout",
     "output_type": "stream",
     "text": [
      "convolutional layers\n",
      "input: (32, 32, 1)\n",
      "block1: (16, 16, 64)\n",
      "block2: (8, 8, 64)\n",
      "block3: (4, 4, 128)\n",
      "block4: (2, 2, 256)\n",
      "block5: (1, 1, 512)\n",
      "fully connected layers\n",
      "fc1: (512, 672075)\n",
      "output: 672075\n"
     ]
    }
   ],
   "source": [
    "# convolution blocks\n",
    "INPUT_SIZE = [32, 32]\n",
    "INPUT_DEPTH = 1\n",
    "BLOCK1_SIZE = (np.array(INPUT_SIZE) / 2).astype(int).tolist()\n",
    "BLOCK1_DEPTH = 64\n",
    "BLOCK2_SIZE = (np.array(BLOCK1_SIZE) / 2).astype(int).tolist()\n",
    "BLOCK2_DEPTH = BLOCK1_DEPTH\n",
    "BLOCK3_SIZE = (np.array(BLOCK2_SIZE) / 2).astype(int).tolist()\n",
    "BLOCK3_DEPTH = BLOCK2_DEPTH * 2\n",
    "BLOCK4_SIZE = (np.array(BLOCK3_SIZE) / 2).astype(int).tolist()\n",
    "BLOCK4_DEPTH = BLOCK3_DEPTH * 2\n",
    "BLOCK5_SIZE = (np.array(BLOCK4_SIZE) / 2).astype(int).tolist()\n",
    "BLOCK5_DEPTH = BLOCK4_DEPTH * 2\n",
    "\n",
    "# fully connected sizes\n",
    "FC1_SIZE = BLOCK5_SIZE[0]*BLOCK5_SIZE[1]*BLOCK5_DEPTH\n",
    "OUTPUT_SIZE = 672075\n",
    "\n",
    "# check the sizes\n",
    "print(\"convolutional layers\")\n",
    "print(\"input: ({0}, {1}, {2})\".format(INPUT_SIZE[0], INPUT_SIZE[1], INPUT_DEPTH))\n",
    "print(\"block1: ({0}, {1}, {2})\".format(BLOCK1_SIZE[0], BLOCK1_SIZE[1], BLOCK1_DEPTH))\n",
    "print(\"block2: ({0}, {1}, {2})\".format(BLOCK2_SIZE[0], BLOCK2_SIZE[1], BLOCK2_DEPTH))\n",
    "print(\"block3: ({0}, {1}, {2})\".format(BLOCK3_SIZE[0], BLOCK3_SIZE[1], BLOCK3_DEPTH))\n",
    "print(\"block4: ({0}, {1}, {2})\".format(BLOCK4_SIZE[0], BLOCK4_SIZE[1], BLOCK4_DEPTH))\n",
    "print(\"block5: ({0}, {1}, {2})\".format(BLOCK5_SIZE[0], BLOCK5_SIZE[1], BLOCK5_DEPTH))\n",
    "print(\"fully connected layers\")\n",
    "print(\"fc1: ({0}, {1})\".format(FC1_SIZE, OUTPUT_SIZE))\n",
    "print(\"output: {0}\".format(OUTPUT_SIZE))"
   ]
  },
  {
   "cell_type": "markdown",
   "metadata": {},
   "source": [
    "## Define the Model\n",
    "18 Layer residual net model inspired by resnet-18\n",
    "\n",
    "TODO:\n",
    "* Implement dropout\n",
    "    * Where to apply?\n",
    "* Make sure the reshapes (.view()) are correctly applied\n",
    "    * Correct dimensions as each argument (depth, width, height) right now"
   ]
  },
  {
   "cell_type": "code",
   "execution_count": 19,
   "metadata": {
    "collapsed": true
   },
   "outputs": [],
   "source": [
    "class Net(nn.Module):\n",
    "    def __init__(self):\n",
    "        super(Net, self).__init__()\n",
    "        \n",
    "        # block1\n",
    "        self.bn1 = nn.BatchNorm2d(INPUT_SIZE[0] * INPUT_SIZE[1] * INPUT_DEPTH * BATCH_SIZE)\n",
    "        self.layer1 = nn.Conv2d(INPUT_DEPTH, BLOCK1_DEPTH, kernel_size=7, stride=2)\n",
    "        \n",
    "        # pooling layer\n",
    "        self.pool2 = nn.MaxPool2d(kernel_size=2, stride=2)\n",
    "        \n",
    "        # block2\n",
    "        self.bn3 = nn.BatchNorm2d(BLOCK1_SIZE[0] * BLOCK1_SIZE[1] * BLOCK1_DEPTH * BATCH_SIZE)\n",
    "        self.layer3 = nn.Conv2d(BLOCK1_DEPTH, BLOCK2_DEPTH, kernel_size=3)\n",
    "        self.bn4 = nn.BatchNorm2d(BLOCK2_SIZE[0] * BLOCK2_SIZE[1] * BLOCK2_DEPTH * BATCH_SIZE)\n",
    "        self.layer4 = nn.Conv2d(BLOCK2_DEPTH, BLOCK2_DEPTH, kernel_size=3)\n",
    "        self.bn5 = nn.BatchNorm2d(BLOCK2_SIZE[0] * BLOCK2_SIZE[1] * BLOCK2_DEPTH * BATCH_SIZE)\n",
    "        self.layer5 = nn.Conv2d(BLOCK2_DEPTH, BLOCK2_DEPTH, kernel_size=3)\n",
    "        self.bn6 = nn.BatchNorm2d(BLOCK2_SIZE[0] * BLOCK2_SIZE[1] * BLOCK2_DEPTH * BATCH_SIZE)\n",
    "        self.layer6 = nn.Conv2d(BLOCK2_DEPTH, BLOCK2_DEPTH, kernel_size=3)\n",
    "        \n",
    "        # block3\n",
    "        self.bn7 = nn.BatchNorm2d(BLOCK2_SIZE[0] * BLOCK2_SIZE[1] * BLOCK2_DEPTH * BATCH_SIZE)\n",
    "        self.layer7 = nn.Conv2d(BLOCK2_DEPTH, BLOCK3_DEPTH, kernel_size=3, stride=2)\n",
    "        self.bn8 = nn.BatchNorm2d(BLOCK3_SIZE[0] * BLOCK3_SIZE[1] * BLOCK3_DEPTH * BATCH_SIZE)\n",
    "        self.layer8 = nn.Conv2d(BLOCK3_DEPTH, BLOCK3_DEPTH, kernel_size=3)\n",
    "        self.layer8_res = nn.Linear(BLOCK2_DEPTH*BLOCK2_SIZE[0]*BLOCK2_SIZE[1], \n",
    "                                    BLOCK3_DEPTH*BLOCK3_SIZE[0]*BLOCK3_SIZE[1])\n",
    "        self.bn9 = nn.BatchNorm2d(BLOCK3_SIZE[0] * BLOCK3_SIZE[1] * BLOCK3_DEPTH * BATCH_SIZE)\n",
    "        self.layer9 = nn.Conv2d(BLOCK3_DEPTH, BLOCK3_DEPTH, kernel_size=3)\n",
    "        self.bn10 = nn.BatchNorm2d(BLOCK3_SIZE[0] * BLOCK3_SIZE[1] * BLOCK3_DEPTH * BATCH_SIZE)\n",
    "        self.layer10 = nn.Conv2d(BLOCK3_DEPTH, BLOCK3_DEPTH, kernel_size=3)\n",
    "        \n",
    "        # block4\n",
    "        self.bn11 = nn.BatchNorm2d(BLOCK3_SIZE[0] * BLOCK3_SIZE[1] * BLOCK3_DEPTH * BATCH_SIZE)\n",
    "        self.layer11 = nn.Conv2d(BLOCK3_DEPTH, BLOCK4_DEPTH, kernel_size=3, stride=2)\n",
    "        self.bn12 = nn.BatchNorm2d(BLOCK4_SIZE[0] * BLOCK4_SIZE[1] * BLOCK4_DEPTH * BATCH_SIZE)\n",
    "        self.layer12 = nn.Conv2d(BLOCK4_DEPTH, BLOCK4_DEPTH, kernel_size=3)\n",
    "        self.layer12_res = nn.Linear(BLOCK3_DEPTH*BLOCK3_SIZE[0]*BLOCK3_SIZE[1], \n",
    "                                    BLOCK4_DEPTH*BLOCK4_SIZE[0]*BLOCK4_SIZE[1])\n",
    "        self.bn13 = nn.BatchNorm2d(BLOCK4_SIZE[0] * BLOCK4_SIZE[1] * BLOCK4_DEPTH * BATCH_SIZE)\n",
    "        self.layer13 = nn.Conv2d(BLOCK4_DEPTH, BLOCK4_DEPTH, kernel_size=3)\n",
    "        self.bn14 = nn.BatchNorm2d(BLOCK4_SIZE[0] * BLOCK4_SIZE[1] * BLOCK4_DEPTH * BATCH_SIZE)\n",
    "        self.layer14 = nn.Conv2d(BLOCK4_DEPTH, BLOCK4_DEPTH, kernel_size=3)\n",
    "        \n",
    "        # block5\n",
    "        self.bn15 = nn.BatchNorm2d(BLOCK4_SIZE[0] * BLOCK4_SIZE[1] * BLOCK4_DEPTH * BATCH_SIZE)\n",
    "        self.layer15 = nn.Conv2d(BLOCK4_DEPTH, BLOCK5_DEPTH, kernel_size=3, stride=2)\n",
    "        self.bn16 = nn.BatchNorm2d(BLOCK5_SIZE[0] * BLOCK5_SIZE[1] * BLOCK5_DEPTH * BATCH_SIZE)\n",
    "        self.layer16 = nn.Conv2d(BLOCK5_DEPTH, BLOCK5_DEPTH, kernel_size=3)\n",
    "        self.layer16_res = nn.Linear(BLOCK4_DEPTH*BLOCK4_SIZE[0]*BLOCK4_SIZE[1], \n",
    "                                    BLOCK5_DEPTH*BLOCK5_SIZE[0]*BLOCK5_SIZE[1])\n",
    "        self.bn17 = nn.BatchNorm2d(BLOCK5_SIZE[0] * BLOCK5_SIZE[1] * BLOCK5_DEPTH * BATCH_SIZE)\n",
    "        self.layer17 = nn.Conv2d(BLOCK5_DEPTH, BLOCK5_DEPTH, kernel_size=3)\n",
    "        self.bn18 = nn.BatchNorm2d(BLOCK5_SIZE[0] * BLOCK5_SIZE[1] * BLOCK5_DEPTH * BATCH_SIZE)\n",
    "        self.layer18 = nn.Conv2d(BLOCK5_DEPTH, BLOCK5_DEPTH, kernel_size=3)\n",
    "        \n",
    "        # pooling layer\n",
    "        self.pool19 = nn.MaxPool2d(kernel_size=2, stride=2)\n",
    "        \n",
    "        # fully connected\n",
    "        self.bn20 = nn.BatchNorm1d(FC1_SIZE * BATCH_SIZE)\n",
    "        self.layer20 = nn.Linear(FC1_SIZE, OUTPUT_SIZE)\n",
    "\n",
    "    def forward(self, x):\n",
    "        \n",
    "        # layer1\n",
    "        f0 = x\n",
    "        f1 = self.layer1(F.relu(self.bn1(f0)))\n",
    "        f2 = self.pool2(f1)\n",
    "        f3 = self.layer3(F.relu(self.bn3(f2)))\n",
    "        f4 = self.layer4(F.relu(self.bn4(f3))) + f2\n",
    "        f5 = self.layer5(F.relu(self.bn5(f4)))\n",
    "        f6 = self.layer6(F.relu(self.bn6(f5))) + f4\n",
    "        f7 = self.layer7(F.relu(self.bn7(f6)))\n",
    "        f8 = self.layer8(F.relu(self.bn8(f7))) + \\\n",
    "            self.layer8_res(f6.view(-1, BLOCK2_DEPTH*BLOCK2_SIZE[0]*BLOCK2_SIZE[1]))\\\n",
    "            .view(-1, BLOCK3_DEPTH, BLOCK3_SIZE[0], BLOCK3_SIZE[1])\n",
    "        f9 = self.layer9(F.relu(self.bn9(f8)))\n",
    "        f10 = self.layer10(F.relu(self.bn10(f9))) + f8\n",
    "        f11 = self.layer11(F.relu(self.bn11(f10)))\n",
    "        f12 = self.layer12(F.relu(self.bn12(f11))) + \\\n",
    "            self.layer12_res(f10.view(-1, BLOCK3_DEPTH*BLOCK3_SIZE[0]*BLOCK3_SIZE[1]))\\\n",
    "            .view(-1, BLOCK4_DEPTH, BLOCK4_SIZE[0], BLOCK4_SIZE[1])\n",
    "        f13 = self.layer13(F.relu(self.bn13(f12)))\n",
    "        f14 = self.layer14(F.relu(self.bn14(f13))) + f12\n",
    "        f15 = self.layer15(F.relu(self.bn15(f14)))\n",
    "        f16 = self.layer16(F.relu(self.bn16(f15))) + \\\n",
    "            self.layer16_res(f14.view(-1, BLOCK4_DEPTH*BLOCK4_SIZE[0](BLOCK4_SIZE[1])))\\\n",
    "            .view(-1, BLOCK5_DEPTH, BLOCK5_SIZE[0], BLOCK5_SIZE[1])\n",
    "        f17 = self.layer17(F.relu(self.bn17(f16)))\n",
    "        f18 = self.layer18(F.relu(self.bn18(f17)))\n",
    "        f19 = self.pool19(f18)\n",
    "        f20 = self.layer20(F.relu(self.bn20(f19.view(-1, FC1_SIZE))))\n",
    "        \n",
    "        # return the softmax of the probability\n",
    "        return F.log_softmax(x)"
   ]
  },
  {
   "cell_type": "markdown",
   "metadata": {},
   "source": [
    "## Instantiate the Model"
   ]
  },
  {
   "cell_type": "code",
   "execution_count": 20,
   "metadata": {
    "collapsed": true
   },
   "outputs": [],
   "source": [
    "model = Net()\n",
    "\n",
    "# if we want to use gpu: \n",
    "#model.cuda()"
   ]
  },
  {
   "cell_type": "markdown",
   "metadata": {},
   "source": [
    "## Create the data loaders\n",
    "Load in the training data and test data from batches\n",
    "\n",
    "TODO:\n",
    "* how can we read data from files?\n",
    "    * Can we just change the filepath??\n",
    "    * Need to transform the data to 32x32\n",
    "    * Check index in __getitem__\n",
    "* configure the correct batch sizes"
   ]
  },
  {
   "cell_type": "code",
   "execution_count": 23,
   "metadata": {},
   "outputs": [
    {
     "name": "stdout",
     "output_type": "stream",
     "text": [
      "9\n",
      "1\n"
     ]
    }
   ],
   "source": [
    "# train_loader = torch.utils.data.DataLoader(\n",
    "#     datasets.MNIST('../data', train=True, download=True,\n",
    "#                    transform=transforms.Compose([\n",
    "#                        transforms.ToTensor()\n",
    "#                    ])),\n",
    "#     batch_size=BATCH_SIZE, shuffle=True, **kwargs)\n",
    "# test_loader = torch.utils.data.DataLoader(\n",
    "#     datasets.MNIST('../data', train=False, transform=transforms.Compose([\n",
    "#                        transforms.ToTensor()\n",
    "#                    ])),\n",
    "# batch_size=BATCH_SIZE, shuffle=True, **kwargs)\n",
    "\n",
    "\n",
    "# print out the data to check\n",
    "#for batch_idx, (data, target) in enumerate(train_loader):\n",
    "#    print(data)\n",
    "\n",
    "class MegaFaceDataset(Dataset):\n",
    "\n",
    "    \"\"\"\n",
    "    All datasets are subclasses of torch.utils.data.Dataset i.e, they have\n",
    "    __getitem__ and __len__ methods implemented.\n",
    "    Hence, they can all be passed to a torch.utils.data.DataLoader which can\n",
    "    load multiple samples parallelly using torch.multiprocessing workers\n",
    "\n",
    "    Source: http://pytorch.org/docs/master/torchvision/datasets.html\n",
    "\n",
    "    The data in the root folder must be arranged in this way:\n",
    "\n",
    "    root/dog/xxx.png\n",
    "    root/dog/xxy.png\n",
    "    root/dog/xxz.png\n",
    "\n",
    "    root/cat/123.png\n",
    "    root/cat/nsdf3.png\n",
    "    root/cat/asd932_.png\n",
    "    \"\"\"\n",
    "\n",
    "    def __init__(self, imageFolderDataset, transform = None, should_invert = True):\n",
    "        self.imageFolderDataset = imageFolderDataset #path to either training or testing dir\n",
    "        self.transform = transform #tranform the input (image augmentation)\n",
    "        self.should_invert = should_invert\n",
    "\n",
    "    def __getitem__(self, index): #Check what index does?\n",
    "        image_tuple = random.choice(self.imageFolderDataset.imgs)\n",
    "        image = Image.open(image_tuple[0])\n",
    "\n",
    "        image = image.convert(\"L\") #Converts an image to grayscale\n",
    "\n",
    "        if self.should_invert:\n",
    "            image = PIL.ImageOps.invert(image)\n",
    "\n",
    "        if self.transform:\n",
    "            image = self.transform(image)\n",
    "\n",
    "        return image\n",
    "\n",
    "    def __len__(self):\n",
    "        return len(self.imageFolderDataset.imgs)\n",
    "    \n",
    "megaface_dataset = datasets.ImageFolder(root=DATASET)\n",
    "\n",
    "#Loading the data\n",
    "megaface_dataset = MegaFaceDataset(imageFolderDataset=megaface_dataset,\n",
    "                                        transform=transforms.Compose([transforms.Scale((100,100)),\n",
    "                                                                      transforms.ToTensor()\n",
    "                                                                      ])\n",
    "                                       ,should_invert=False)\n",
    "train_loader = DataLoader(megaface_dataset, batch_size=32)\n",
    "print(len(megaface_dataset))\n",
    "print(len(train_loader)) #Print the number of images loaded"
   ]
  },
  {
   "cell_type": "markdown",
   "metadata": {},
   "source": [
    "## Optimizer"
   ]
  },
  {
   "cell_type": "code",
   "execution_count": null,
   "metadata": {
    "collapsed": true
   },
   "outputs": [],
   "source": [
    "# define the optimizer\n",
    "\"\"\"\n",
    "params (iterable) – iterable of parameters to optimize or dicts defining parameter groups\n",
    "lr (float, optional) – learning rate (default: 1e-3)\n",
    "betas (Tuple[float, float], optional) – coefficients used for computing running averages of gradient and its square (default: (0.9, 0.999))\n",
    "eps (float, optional) – term added to the denominator to improve numerical stability (default: 1e-8)\n",
    "weight_decay (float, optional) – weight decay (L2 penalty) (default: 0)\n",
    "\"\"\"\n",
    "optimizer = optim.Adam(model.parameters())"
   ]
  },
  {
   "cell_type": "markdown",
   "metadata": {},
   "source": [
    "## Specifiy what training will take place"
   ]
  },
  {
   "cell_type": "code",
   "execution_count": null,
   "metadata": {
    "collapsed": true
   },
   "outputs": [],
   "source": [
    "# define training function\n",
    "def train(epoch, model):\n",
    "    \"\"\"\n",
    "        Train the model\n",
    "        Inputs:\n",
    "            epoch - number of the current epoch\n",
    "            \n",
    "        Outputs:\n",
    "            \n",
    "    \"\"\"\n",
    "    model.train()\n",
    "    for batch_idx, (data, target) in enumerate(train_loader):\n",
    "        data, target = Variable(data), Variable(target)\n",
    "        optimizer.zero_grad()\n",
    "        output = model(data)\n",
    "        loss = F.nll_loss(output, target)\n",
    "        loss.backward()\n",
    "        optimizer.step()\n",
    "        if batch_idx % LOG_INTERVAL == 0:\n",
    "            print('Train Epoch: {} [{}/{} ({:.0f}%)]\\tLoss: {:.6f}'.format(\n",
    "                epoch, batch_idx * len(data), len(train_loader.dataset),\n",
    "                100. * batch_idx / len(train_loader), loss.data[0]))"
   ]
  },
  {
   "cell_type": "markdown",
   "metadata": {},
   "source": [
    "## How will we test the model"
   ]
  },
  {
   "cell_type": "code",
   "execution_count": null,
   "metadata": {
    "collapsed": true
   },
   "outputs": [],
   "source": [
    "def test(model):\n",
    "    \"\"\"\n",
    "        Test the model's accuracy\n",
    "        Inputs:\n",
    "            None\n",
    "        Outputs: \n",
    "            Prints the test output results\n",
    "    \"\"\"\n",
    "    model.eval()\n",
    "    test_loss = 0\n",
    "    correct = 0\n",
    "    for data, target in test_loader:\n",
    "        data, target = Variable(data, volatile=True), Variable(target)\n",
    "        output = model(data)\n",
    "        test_loss += F.nll_loss(output, target, size_average=False).data[0] # sum up batch loss\n",
    "        pred = output.data.max(1, keepdim=True)[1] # get the index of the max log-probability\n",
    "        correct += pred.eq(target.data.view_as(pred)).cpu().sum()\n",
    "    test_loss /= len(test_loader.dataset)\n",
    "    print('\\nTest set: Average loss: {:.4f}, Accuracy: {}/{} ({:.0f}%)\\n'.format(\n",
    "        test_loss, correct, len(test_loader.dataset),\n",
    "        100. * correct / len(test_loader.dataset)))"
   ]
  },
  {
   "cell_type": "markdown",
   "metadata": {},
   "source": [
    "## Run the Training & Testing"
   ]
  },
  {
   "cell_type": "code",
   "execution_count": null,
   "metadata": {
    "collapsed": true
   },
   "outputs": [],
   "source": [
    "for epoch in range(1, EPOCHS+1):\n",
    "    train(epoch, model)\n",
    "    test(model)"
   ]
  },
  {
   "cell_type": "markdown",
   "metadata": {
    "collapsed": true
   },
   "source": [
    "# Some extra cells to print testing stuff"
   ]
  },
  {
   "cell_type": "code",
   "execution_count": null,
   "metadata": {
    "collapsed": true
   },
   "outputs": [],
   "source": [
    "print(model.parameters())"
   ]
  },
  {
   "cell_type": "code",
   "execution_count": null,
   "metadata": {
    "collapsed": true
   },
   "outputs": [],
   "source": []
  }
 ],
 "metadata": {
  "kernelspec": {
   "display_name": "Python 3",
   "language": "python",
   "name": "python3"
  },
  "language_info": {
   "codemirror_mode": {
    "name": "ipython",
    "version": 3
   },
   "file_extension": ".py",
   "mimetype": "text/x-python",
   "name": "python",
   "nbconvert_exporter": "python",
   "pygments_lexer": "ipython3",
   "version": "3.6.2"
  }
 },
 "nbformat": 4,
 "nbformat_minor": 2
}
